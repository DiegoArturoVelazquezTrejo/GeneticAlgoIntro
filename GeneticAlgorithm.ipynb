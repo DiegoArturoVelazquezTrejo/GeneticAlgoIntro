{
  "nbformat": 4,
  "nbformat_minor": 0,
  "metadata": {
    "colab": {
      "provenance": [],
      "private_outputs": true
    },
    "kernelspec": {
      "name": "python3",
      "display_name": "Python 3"
    },
    "language_info": {
      "name": "python"
    },
    "accelerator": "GPU",
    "gpuClass": "standard"
  },
  "cells": [
    {
      "cell_type": "markdown",
      "source": [
        "# Genetic Algorithm \n",
        "## Coloquio de Matemáticas, ITAM (2023). \n",
        "\n",
        "@author: Diego Velázquez Trejo\n",
        "\n",
        "@github: DiegoArturoVelazquezTrejo\n",
        "\n",
        "@linkedin: linkedin.com/in/diego-velazquez-32a4b8244"
      ],
      "metadata": {
        "id": "XyQ-7HYdgS-0"
      }
    },
    {
      "cell_type": "markdown",
      "source": [
        "### Required libraries"
      ],
      "metadata": {
        "id": "IPRSF5jvgiT7"
      }
    },
    {
      "cell_type": "code",
      "source": [
        "# Library for matrix operations\n",
        "import numpy as np \n",
        "# Library for time operations\n",
        "import time \n",
        "# Library for random operations\n",
        "import random \n",
        "# Library for plotting\n",
        "from matplotlib import pyplot as plt \n"
      ],
      "metadata": {
        "id": "Z3Kpf6_hgYyQ"
      },
      "execution_count": null,
      "outputs": []
    },
    {
      "cell_type": "markdown",
      "source": [
        "# Auxiliar functions "
      ],
      "metadata": {
        "id": "OEuF6bm1jGpr"
      }
    },
    {
      "cell_type": "code",
      "source": [
        "# Function that generates a random letter\n",
        "def new_Character():\n",
        "    return random.choice('abcdefghijklmnopqrstuvwxyz ')"
      ],
      "metadata": {
        "id": "rfzR5iJ8gdQs"
      },
      "execution_count": null,
      "outputs": []
    },
    {
      "cell_type": "code",
      "source": [
        "# Function that prints the population \n",
        "def print_pop(population): \n",
        "  print(\"Population: \")\n",
        "  for i in range(len(population)): \n",
        "    if(i % 10 == 0): \n",
        "      print(\"\\n\")\n",
        "    print(population[i], end = \", \")\n"
      ],
      "metadata": {
        "id": "5IEnWX4BiP_O"
      },
      "execution_count": null,
      "outputs": []
    },
    {
      "cell_type": "markdown",
      "source": [
        "# Genetic algo"
      ],
      "metadata": {
        "id": "l3gShl0UjI-p"
      }
    },
    {
      "cell_type": "code",
      "execution_count": null,
      "metadata": {
        "id": "MncC6JJS5R9C"
      },
      "outputs": [],
      "source": [
        "'''\n",
        "Genetic algorithm\n",
        "'''\n",
        "class GeneticWordAlgo: \n",
        "\n",
        "    # Constructor of the class  \n",
        "    def __init__(self, initialPop, goal, cross_rate = 0.3, mutation_rate = 0.3, method = \"cross.over\",  gens = 100): \n",
        "        # Population\n",
        "        self.population = initialPop\n",
        "        # Cross rate \n",
        "        self.cross_rate = cross_rate\n",
        "        # Mutation rate \n",
        "        self.mutation_rate = mutation_rate\n",
        "        # Cross Method \n",
        "        self.method = method \n",
        "        # Number of cicles to be done \n",
        "        self.gens = gens\n",
        "        # Array that contains the fitness measures \n",
        "        self.fitness_measures = np.zeros(len(self.population))\n",
        "        # Algorithm's goal \n",
        "        self.goal = goal\n",
        "\n",
        "    # Objetive function \n",
        "    def wordFun(self, word): \n",
        "        fitness = 0 \n",
        "        for i in range(0,len(word)):\n",
        "            if(word[i] == self.goal[i]):\n",
        "                fitness = fitness + 1\n",
        "        return fitness\n",
        "\n",
        "    # Crossover methods \n",
        "    def crossOver(self, word1, word2):\n",
        "        # We get the middle point of the word \n",
        "        middle = int(len(word1)/2)\n",
        "        adn1 = word1[0:middle]\n",
        "        adn2 = word2[middle:len(word2)]\n",
        "        new_word = adn1 + adn2\n",
        "        return new_word\n",
        "\n",
        "    # Crossover Toss \n",
        "    def crossOverToss(self, word1, word2):\n",
        "        word = word1\n",
        "        for i in range(0, len(word1)):\n",
        "            if(random.random() < self.cross_rate):\n",
        "                word = word.replace(word[i], word2[i])\n",
        "        return word\n",
        "    \n",
        "    # Probabilistic cross over\n",
        "    def cross_over_probabilistic(self, word1, word2):\n",
        "        num = int(random.random() * (len(word1) - 1))\n",
        "        adn1 = word1[:num]\n",
        "        adn2 = word2[num:]\n",
        "        return adn1 + adn2\n",
        "\n",
        "    # Mutation methods \n",
        "    def mutate_word(self,word1):\n",
        "        son = word1\n",
        "        for i in range(0, len(word1)):\n",
        "            if(random.random() < self.mutation_rate):\n",
        "                son = son.replace(son[i], new_Character())\n",
        "        return son\n",
        "\n",
        "    # Selection methods\n",
        "    def select_cross_method(self, word1, word2):\n",
        "        funs = {'cross.over': self.crossOver, \n",
        "                'cross.over.probabilistic': self.cross_over_probabilistic, \n",
        "                'cross.over.toss': self.crossOverToss}\n",
        "        return funs[self.method](word1, word2)\n",
        "        \n",
        "\n",
        "    # Fitness function (returns probabilities of each individual)\n",
        "    def fitness(self):\n",
        "        for i in range(0, len(self.population)):\n",
        "            self.fitness_measures[i] = self.wordFun(self.population[i])\n",
        "        # Calculate probabilities of each individual. We will standarize this vector using min max value \n",
        "        self.fitness_measures = (self.fitness_measures-np.min(self.fitness_measures))/(np.max(self.fitness_measures)-np.min(self.fitness_measures))\n",
        "\n",
        "    # Bernoui's method (selection)\n",
        "    def bernoulli(self):\n",
        "        words = []; i = 0\n",
        "        while(i != 2):\n",
        "            # Select the index of a random word in the population\n",
        "            index_word = int(random.random() * len(self.population))\n",
        "            # Select a random number between 0 and 1\n",
        "            if( random.random() < self.fitness_measures[index_word]):\n",
        "                words.append(self.population[index_word]); i += 1 \n",
        "\n",
        "        return words[0], words[1]\n",
        "\n",
        "    # Algorithm's main function\n",
        "    def run(self):\n",
        "        print_pop(self.population)\n",
        "        print(\"Goal: \", self.goal)\n",
        "        print(\"Cross rate: \", self.cross_rate)\n",
        "        print(\"Mutation rate: \", self.mutation_rate)\n",
        "        print(\"Cross method: \", self.method)\n",
        "        # Array with the mean for each gen \n",
        "        fit = []\n",
        "        # Iterate for each generation\n",
        "        t0 = time.time()\n",
        "        for i in range(self.gens): \n",
        "            # Calculate the prob for each individual\n",
        "            self.fitness()\n",
        "            # Iterate for each individual in the population\n",
        "            new_pop = []\n",
        "            for j in range(len(self.population)):\n",
        "                # Get the parents for cross over\n",
        "                vater, mutter = self.bernoulli()\n",
        "                sohn = self.select_cross_method(vater, mutter)\n",
        "                new_pop.append(self.mutate_word(sohn))\n",
        "            \n",
        "            # Get the best individual \n",
        "            max_i = np.argmax(self.fitness_measures)\n",
        "            best_word = self.population[max_i]\n",
        "            self.population = new_pop\n",
        "            self.population[-1] = best_word\n",
        "\n",
        "            # Report results\n",
        "            if(i % 20 == 0): \n",
        "                print(\"------------------------------------------------------\")\n",
        "                print(\"| Generation: \", i, \" Average pop: \", np.mean(self.fitness_measures),\"|\")\n",
        "                print(\"------------------------------------------------------\")\n",
        "            fit.append(np.mean(self.fitness_measures))\n",
        "        \n",
        "        print(f\"Total time {time.time() - t0} secs\")\n",
        "        return self.population, best_word, fit\n"
      ]
    },
    {
      "cell_type": "markdown",
      "source": [
        "Lets play!"
      ],
      "metadata": {
        "id": "H8XNmYqUiEf2"
      }
    },
    {
      "cell_type": "code",
      "source": [
        "\n",
        "# Generate the initial population \n",
        "initialPop = []\n",
        "N = 200\n",
        "goal = \"eduardo\"\n",
        "gens = 100\n",
        "\n",
        "for i in range(N): \n",
        "    word = \"\"\n",
        "    for j in range(len(goal)):\n",
        "        word = word + new_Character()\n",
        "    initialPop.append(word)\n",
        "\n"
      ],
      "metadata": {
        "id": "r5YZU7f0f82E"
      },
      "execution_count": null,
      "outputs": []
    },
    {
      "cell_type": "code",
      "source": [
        "\n",
        "# Create the genetic algorithm\n",
        "genetic = GeneticWordAlgo(initialPop, goal, cross_rate = 0.3, mutation_rate = 0.01, method = \"cross.over.probabilistic\", gens = gens)\n",
        "res, best, fit = genetic.run()\n"
      ],
      "metadata": {
        "id": "W8FaorT8gL_M"
      },
      "execution_count": null,
      "outputs": []
    },
    {
      "cell_type": "markdown",
      "source": [
        "# Now, we get the best element and the final population"
      ],
      "metadata": {
        "id": "ag1-eOV2gpUE"
      }
    },
    {
      "cell_type": "code",
      "source": [
        "print(f\"Final population: \")\n",
        "print_pop(res)\n",
        "print(\"\\n\\n\\n---------------------------------------------\\n\\n\")\n",
        "print(f\"The element that maximizes the objetive function is: \\t\\t{best}\")"
      ],
      "metadata": {
        "id": "5x50mzUkgO9M"
      },
      "execution_count": null,
      "outputs": []
    },
    {
      "cell_type": "markdown",
      "source": [
        "Plotting results"
      ],
      "metadata": {
        "id": "RGuJ8wmHgtwv"
      }
    },
    {
      "cell_type": "code",
      "source": [
        "# Plotting the results\n",
        "plt.xlabel('Generations')\n",
        "plt.ylabel('fit value')\n",
        "plt.plot(fit, c = 'red')\n",
        "plt.title('Fit through gens')\n",
        "plt.show()"
      ],
      "metadata": {
        "id": "-H1NbCfvf_xY"
      },
      "execution_count": null,
      "outputs": []
    }
  ]
}