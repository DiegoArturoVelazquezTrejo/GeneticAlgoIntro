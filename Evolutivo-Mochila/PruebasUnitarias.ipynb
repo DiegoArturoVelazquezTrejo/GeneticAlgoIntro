{
  "cells": [
    {
      "attachments": {},
      "cell_type": "markdown",
      "metadata": {
        "id": "XyQ-7HYdgS-0"
      },
      "source": [
        "# Genetic Algorithm \n",
        "## Investigación de Operaciones, ITAM (2023). \n",
        "\n",
        "@author: Diego Velázquez Trejo\n",
        "\n",
        "@author: Viviana de los Ríos\n"
      ]
    },
    {
      "cell_type": "markdown",
      "metadata": {
        "id": "IPRSF5jvgiT7"
      },
      "source": [
        "### Required libraries"
      ]
    },
    {
      "cell_type": "code",
      "execution_count": 1,
      "metadata": {
        "id": "Z3Kpf6_hgYyQ"
      },
      "outputs": [],
      "source": [
        "# Library for matrix operations\n",
        "import numpy as np \n",
        "# Library for time operations\n",
        "import time \n",
        "# Library for random operations\n",
        "import random \n",
        "# Library for plotting\n",
        "from matplotlib import pyplot as plt "
      ]
    },
    {
      "cell_type": "markdown",
      "metadata": {
        "id": "OEuF6bm1jGpr"
      },
      "source": [
        "# Auxiliar functions "
      ]
    },
    {
      "cell_type": "code",
      "execution_count": 2,
      "metadata": {
        "id": "5IEnWX4BiP_O"
      },
      "outputs": [],
      "source": [
        "# Function that prints the population \n",
        "def print_pop(population): \n",
        "  print(\"Population: \")\n",
        "  for i in range(len(population)): \n",
        "    if(i % 10 == 0): \n",
        "      print(\"\\n\")\n",
        "    print(population[i].toString(), end = \", \")\n"
      ]
    },
    {
      "attachments": {},
      "cell_type": "markdown",
      "metadata": {
        "id": "H8XNmYqUiEf2"
      },
      "source": [
        "# Reading the data for the Genetic Algorithm "
      ]
    },
    {
      "cell_type": "code",
      "execution_count": 3,
      "metadata": {
        "id": "r5YZU7f0f82E"
      },
      "outputs": [
        {
          "name": "stdout",
          "output_type": "stream",
          "text": [
            "\n",
            "Tamaño del conjunto de potenciales objetos: 10000\n",
            "\n",
            "\n",
            "Population: \n",
            "\n",
            "\n",
            "Capacidad: 1000000, #Elemetos: 9, Peso: 938153, Valor:913884 : {'8123', '6252', '4636', '8886', '9091', '6810', '227', '1670', '2460'}, Capacidad: 1000000, #Elemetos: 10, Peso: 962376, Valor:949461 : {'1414', '1548', '5742', '7808', '654', '745', '4098', '2910', '9061', '2407'}, Capacidad: 1000000, #Elemetos: 8, Peso: 842952, Valor:854427 : {'761', '202', '8673', '7880', '2905', '4074', '2255', '3863'}, Capacidad: 1000000, #Elemetos: 11, Peso: 858901, Valor:859831 : {'7866', '3725', '619', '9402', '5529', '9136', '3809', '6749', '9654', '801', '3205'}, Capacidad: 1000000, #Elemetos: 9, Peso: 858425, Valor:856479 : {'8712', '8677', '5077', '6290', '8701', '5899', '9895', '5303', '7085'}, Capacidad: 1000000, #Elemetos: 9, Peso: 988881, Valor:976239 : {'7030', '1362', '7776', '5981', '1461', '1242', '7626', '7115', '3588'}, Capacidad: 1000000, #Elemetos: 10, Peso: 993692, Valor:972597 : {'1949', '3804', '8402', '7567', '6991', '1392', '5128', '877', '6000', '4696'}, Capacidad: 1000000, #Elemetos: 13, Peso: 907658, Valor:895626 : {'395', '1356', '6259', '8812', '8997', '3997', '8852', '7928', '9455', '3885', '1848', '1525', '7366'}, Capacidad: 1000000, #Elemetos: 11, Peso: 921685, Valor:897082 : {'2596', '1595', '490', '1588', '9881', '4925', '2674', '6280', '5663', '9559', '8075'}, Capacidad: 1000000, #Elemetos: 9, Peso: 933734, Valor:930112 : {'9220', '6482', '5746', '1315', '7360', '4185', '7602', '7038', '8947'}, \n",
            "\n",
            "Capacidad: 1000000, #Elemetos: 11, Peso: 839513, Valor:871160 : {'771', '6020', '6320', '8425', '3369', '4122', '7869', '6944', '326', '8829', '5406'}, Capacidad: 1000000, #Elemetos: 10, Peso: 996943, Valor:965977 : {'8837', '8816', '7424', '786', '3553', '1057', '9405', '699', '9829', '3933'}, Capacidad: 1000000, #Elemetos: 10, Peso: 961091, Valor:941151 : {'8750', '8518', '6950', '3076', '3298', '7333', '823', '9562', '346', '6339'}, Capacidad: 1000000, #Elemetos: 10, Peso: 991901, Valor:988195 : {'3844', '5689', '8608', '2514', '4562', '5405', '5824', '7549', '9603', '9619'}, Capacidad: 1000000, #Elemetos: 8, Peso: 967287, Valor:979656 : {'5795', '8427', '314', '698', '2296', '1312', '6680', '8559'}, Capacidad: 1000000, #Elemetos: 6, Peso: 918572, Valor:893115 : {'6415', '6865', '1978', '8353', '2099', '3145'}, Capacidad: 1000000, #Elemetos: 11, Peso: 999741, Valor:1031934 : {'4649', '9280', '7058', '7312', '8310', '2574', '1423', '50', '8338', '9752', '9198'}, Capacidad: 1000000, #Elemetos: 8, Peso: 901311, Valor:873330 : {'9306', '9461', '2289', '7463', '6425', '8480', '1396', '7801'}, Capacidad: 1000000, #Elemetos: 7, Peso: 919800, Valor:896630 : {'2024', '5111', '8156', '448', '669', '4195', '9044'}, Capacidad: 1000000, #Elemetos: 8, Peso: 969751, Valor:981946 : {'3988', '5246', '2081', '7833', '3279', '5258', '8302', '8840'}, \n",
            "\n",
            "Capacidad: 1000000, #Elemetos: 9, Peso: 944445, Valor:945381 : {'954', '8484', '2488', '2743', '2260', '5352', '9151', '4681', '8218'}, Capacidad: 1000000, #Elemetos: 8, Peso: 992588, Valor:998760 : {'3700', '5081', '6572', '3527', '652', '8647', '4557', '5157'}, Capacidad: 1000000, #Elemetos: 11, Peso: 932472, Valor:925760 : {'2974', '8774', '3490', '2965', '2490', '7524', '1022', '8537', '8037', '3479', '1424'}, Capacidad: 1000000, #Elemetos: 11, Peso: 933957, Valor:910766 : {'8628', '6531', '8485', '1621', '6136', '3459', '3837', '5426', '1226', '2258', '3031'}, Capacidad: 1000000, #Elemetos: 10, Peso: 858378, Valor:825531 : {'6128', '7770', '1397', '5450', '7142', '2890', '4176', '4684', '3063', '6884'}, Capacidad: 1000000, #Elemetos: 12, Peso: 987326, Valor:1022126 : {'7089', '5892', '8034', '7942', '4722', '3799', '4120', '8268', '5773', '4602', '4157', '331'}, Capacidad: 1000000, #Elemetos: 8, Peso: 970672, Valor:1003808 : {'3786', '9411', '1741', '3680', '4565', '8283', '7283', '4599'}, Capacidad: 1000000, #Elemetos: 6, Peso: 958321, Valor:942266 : {'3984', '1799', '7172', '5229', '817', '794'}, Capacidad: 1000000, #Elemetos: 11, Peso: 985829, Valor:957672 : {'6235', '5586', '7224', '7969', '1952', '5253', '2415', '2147', '4430', '59', '5197'}, Capacidad: 1000000, #Elemetos: 11, Peso: 830606, Valor:823067 : {'4782', '9073', '7167', '1375', '7552', '8423', '7077', '8044', '842', '4151', '571'}, \n",
            "\n",
            "Capacidad: 1000000, #Elemetos: 8, Peso: 947740, Valor:942746 : {'8173', '5647', '282', '212', '1990', '2504', '1383', '1882'}, Capacidad: 1000000, #Elemetos: 11, Peso: 937533, Valor:949795 : {'9107', '2221', '3860', '6641', '8725', '9437', '6945', '3223', '6566', '6962', '7388'}, Capacidad: 1000000, #Elemetos: 12, Peso: 907613, Valor:911692 : {'3249', '8984', '9268', '7537', '7261', '2141', '9179', '4558', '8095', '463', '3167', '973'}, Capacidad: 1000000, #Elemetos: 10, Peso: 906986, Valor:898174 : {'4723', '4511', '7897', '7156', '6281', '214', '740', '8708', '7357', '4952'}, Capacidad: 1000000, #Elemetos: 8, Peso: 991736, Valor:953876 : {'6803', '772', '4044', '7605', '2815', '9760', '4325', '6643'}, Capacidad: 1000000, #Elemetos: 12, Peso: 905993, Valor:884363 : {'7341', '6629', '4827', '2131', '7717', '4566', '8903', '6971', '2917', '3377', '3148', '4584'}, Capacidad: 1000000, #Elemetos: 11, Peso: 989400, Valor:1001230 : {'9447', '6494', '298', '3780', '8625', '4728', '5115', '2711', '4018', '8412', '8731'}, Capacidad: 1000000, #Elemetos: 14, Peso: 973784, Valor:948132 : {'4537', '1427', '7980', '5707', '2573', '1570', '4522', '559', '6729', '6418', '980', '1319', '8380', '1336'}, Capacidad: 1000000, #Elemetos: 7, Peso: 923004, Valor:902835 : {'217', '6272', '9352', '4523', '9082', '4762', '4590'}, Capacidad: 1000000, #Elemetos: 10, Peso: 858198, Valor:852594 : {'6672', '8581', '8804', '8827', '4487', '9137', '248', '923', '473', '4206'}, \n",
            "\n",
            "Capacidad: 1000000, #Elemetos: 8, Peso: 932097, Valor:948581 : {'7922', '8217', '6104', '7286', '8877', '5048', '505', '6670'}, Capacidad: 1000000, #Elemetos: 8, Peso: 924035, Valor:926204 : {'9888', '4393', '341', '5011', '844', '2453', '7772', '5132'}, Capacidad: 1000000, #Elemetos: 9, Peso: 868173, Valor:906307 : {'9394', '8618', '4231', '5559', '815', '5769', '498', '9778', '3928'}, Capacidad: 1000000, #Elemetos: 11, Peso: 950772, Valor:960364 : {'3603', '9263', '8710', '3153', '7435', '2874', '80', '8795', '215', '5248', '2359'}, Capacidad: 1000000, #Elemetos: 9, Peso: 908142, Valor:898069 : {'276', '82', '1677', '6087', '8685', '4489', '1996', '3237', '468'}, Capacidad: 1000000, #Elemetos: 10, Peso: 819980, Valor:824842 : {'9781', '5751', '4838', '1637', '9160', '1358', '119', '4424', '2856', '1960'}, Capacidad: 1000000, #Elemetos: 7, Peso: 893839, Valor:853306 : {'4549', '1873', '8360', '6525', '9600', '520', '8799'}, Capacidad: 1000000, #Elemetos: 7, Peso: 911617, Valor:887841 : {'632', '5415', '1854', '7659', '8955', '4905', '4961'}, Capacidad: 1000000, #Elemetos: 6, Peso: 882450, Valor:868533 : {'5527', '3366', '7229', '1446', '3334', '3621'}, Capacidad: 1000000, #Elemetos: 12, Peso: 891941, Valor:870026 : {'3868', '6470', '7173', '6460', '385', '5180', '4920', '8623', '251', '1437', '1818', '9421'}, \n",
            "\n",
            "\n",
            "Cantidad de objetos que están disponibles para configurar más mochilas: 9525\n",
            "Cantidad de objetos dentro de las mochilas: 475\n",
            "\n"
          ]
        }
      ],
      "source": [
        "\n",
        "'''\n",
        "Programa Main para la optimización del problema de la mochila\n",
        "@author Diego Velázquez Trejo\n",
        "\n",
        "'''\n",
        "from leyendo_datos_mochila import CONJUNTO_OBJETOS\n",
        "from leyendo_datos_mochila import CAPACIDAD\n",
        "from leyendo_datos_mochila import OBJETOS_TOTALES # Va a ser importante tener esta variable en mente cuando intentemos crear tantas mochilas con objetos y que sean más objetos de los que predisponemos \n",
        "from Mochila import Mochila\n",
        "import random\n",
        "\n",
        "conjunto_identificadores = set() # Contiene los identificadores de los objetos que se pueden insertar en las mochilas (será una variable auxiliar)\n",
        "\n",
        "for i in range(1, len(CONJUNTO_OBJETOS)+1):\n",
        "    conjunto_identificadores.add(str(i))\n",
        "\n",
        "\n",
        "# Necesito una función para generar una mochila inicial VÁLIDA\n",
        "def genera_mochila_valida(informacion = CONJUNTO_OBJETOS, capacidad = CAPACIDAD):\n",
        "    # Copia del conjunto\n",
        "    M0 = Mochila(set(), capacidad)\n",
        "    el = conjunto_identificadores.pop()\n",
        "    while(M0.agrega_elemento(el) and len(conjunto_identificadores) > 0):\n",
        "        el = conjunto_identificadores.pop()\n",
        "    # Agregamos el último elemento que se sacó del ciclo while y que ya no entró a la mochila \n",
        "    conjunto_identificadores.add(el)\n",
        "    return M0\n",
        "\n",
        "\n",
        "# Vemos los resultados de una mochila inicial y del conjunto de identificadores\n",
        "print(f\"\\nTamaño del conjunto de potenciales objetos: {len(conjunto_identificadores)}\\n\\n\")\n",
        "# Vamos a generar una población de 100 mochilas \n",
        "initialPop = []\n",
        "\n",
        "total_elementos_agregados_a_mochila = 0 \n",
        "\n",
        "size_pop = 50\n",
        "\n",
        "for i in range(size_pop):\n",
        "    M = genera_mochila_valida()\n",
        "    initialPop.append(M)\n",
        "    total_elementos_agregados_a_mochila += M.longitud()\n",
        "\n",
        "# Vamos a imprimir cada mochila \n",
        "\n",
        "print_pop(initialPop)\n",
        "print(f\"\\n\\n\\nCantidad de objetos que están disponibles para configurar más mochilas: {len(conjunto_identificadores)}\")\n",
        "print(f\"Cantidad de objetos dentro de las mochilas: {total_elementos_agregados_a_mochila}\\n\")\n"
      ]
    },
    {
      "attachments": {},
      "cell_type": "markdown",
      "metadata": {},
      "source": [
        "# Genetic functions"
      ]
    },
    {
      "cell_type": "code",
      "execution_count": 4,
      "metadata": {},
      "outputs": [],
      "source": [
        "# Función para agregar un elemento a la mochila \n",
        "def agrega_elemento_mochila(mochila, iters): \n",
        "    # En caso de haber llegado al máximo de llamadas recursivas intentando agregar un elemento, regresamos False\n",
        "    if(iters > 3): \n",
        "        return False\n",
        "    # Extraemos un elemento aleatorio del conjunto de identificadores\n",
        "    elemento = random.choices(list(conjunto_identificadores),k=1)[0]\n",
        "    if(mochila.agrega_elemento(elemento)):\n",
        "        # Eliminamos elemento del conjunto de identificadores\n",
        "        conjunto_identificadores.remove(elemento)\n",
        "        return True \n",
        "    else: \n",
        "        return agrega_elemento_mochila(mochila, iters + 1)\n",
        "\n",
        "# Recordar que el objeto mochila posee los siguientes métodos: obtiene_elemento y agrega_elemento\n",
        "# En donde obtiene_elemento extraer un elemento aleatorio de la mochila (eliminándolo de la misma). \n",
        "# También tiene: longitud (regresa la cantidad de elementos que posee)\n",
        "# Tambiém tiene: lista_elementos (para obtener los identificadores de los objetos que están dentro de la mochila)\n",
        "\n",
        "def CrossOver(mochila1, mochila2, crossRate):\n",
        "    pass \n",
        "\n",
        "def CrossOverToss(mochila1, mochila2, crossRate):\n",
        "    pass\n",
        "\n",
        "# Vamos a utilizar únicamente este método de cruce ya que aquí no importa la posición de los objetos que conforman a la mochila \n",
        "def CrossOverProbabilistic(mochila1, mochila2, crossRate):\n",
        "    # Caso en donde no se lleva a cabo la mutación \n",
        "    if(random.random() > crossRate):\n",
        "        return mochila1, mochila2\n",
        "        \n",
        "    # Vamos a obtener los elementos de la mochila1 y los elementos de la mochila2\n",
        "    elementos_mochila1 = mochila1.lista_elementos()\n",
        "    elementos_mochila2 = mochila2.lista_elementos()\n",
        "\n",
        "    # Vamos a concatenar la lista de elementos_mochila1 y elementos_mochila2\n",
        "    elementos = elementos_mochila1 + elementos_mochila2\n",
        "\n",
        "    # Vamos a generar dos nuevas mochilas\n",
        "    nueva_mochila1 = Mochila(set(), CAPACIDAD)\n",
        "    nueva_mochila2 = Mochila(set(), CAPACIDAD)\n",
        "\n",
        "    for elemento in elementos: \n",
        "        if(random.random() < 0.5): \n",
        "            res = nueva_mochila1.agrega_elemento(elemento)\n",
        "            if(res == False and nueva_mochila2.agrega_elemento(elemento) == False): \n",
        "                    conjunto_identificadores.add(elemento)\n",
        "        else: \n",
        "            res = nueva_mochila2.agrega_elemento(elemento)\n",
        "            # Intentamos ahora colocarlo en la primera mochila \n",
        "            if(res == False and nueva_mochila1.agrega_elemento(elemento) == False):\n",
        "                conjunto_identificadores.add(elemento)\n",
        "    return nueva_mochila1, nueva_mochila2\n",
        "\n",
        "# Función que escogerá un índice aleatorio del conjunto de identificadores y lo agregará a la mochila, quitando uno \n",
        "def MutateElement(mochila, mutationRate):\n",
        "    if(random.random() < mutationRate):\n",
        "        # Removemos un elemento aleatorio de la mochila \n",
        "        elemento = mochila.obtiene_elemento()\n",
        "        # Tenemos que agregar un nuevo elemento del conjunto_identificadores (siempre y cuando siga respetando la capacidad de la mochila)\n",
        "        res = agrega_elemento_mochila(mochila, 0)\n",
        "        # En caso que sí se haya podido agregar un elemento, entonces agregamos el elemento que se sacó de la mochila al conjunto de identificadores\n",
        "        if(res):\n",
        "            conjunto_identificadores.add(elemento)\n",
        "        else: \n",
        "            # En caso que no se haya podido agregar un nuevo elemento a la mochila, entonces agregamos el elemento que se sacó de la mochila a la mochila\n",
        "            mochila.agrega_elemento(elemento)\n",
        "\n",
        "    return mochila        \n",
        "\n",
        "# Función que se encargará de iterar sobre los identificadores de la mochila y cambiar uno, dependiendo un u ~ U(0,1)\n",
        "def MutateElementInversion(mochila, mutationRate):\n",
        "    pass \n",
        "\n",
        "# Vamos a definir los métodos por fuera y pasarlos como parámetros\n",
        "MetodosCruza = {\n",
        "    \"cross.Over\": CrossOver, \n",
        "    \"cross.Over.Toss\": CrossOverToss,\n",
        "    \"cross.over.probabilistic\": CrossOverProbabilistic\n",
        "}\n",
        "\n",
        "MetodosMutacion = {\n",
        "    \"uniform.mutation\": MutateElement,\n",
        "    \"inversion.mutation\": MutateElementInversion\n",
        "}"
      ]
    },
    {
      "attachments": {},
      "cell_type": "markdown",
      "metadata": {},
      "source": [
        "# Pruebas de los dos operadores que tenemos"
      ]
    },
    {
      "cell_type": "code",
      "execution_count": 5,
      "metadata": {},
      "outputs": [
        {
          "name": "stdout",
          "output_type": "stream",
          "text": [
            "Capacidad: 1000000, #Elemetos: 10, Peso: 853432, Valor:818586 : {'3249', '7537', '7261', '2141', '9179', '8480', '1396', '8095', '463', '7801'} Capacidad: 1000000, #Elemetos: 10, Peso: 955492, Valor:966436 : {'3167', '9306', '9461', '9268', '2289', '7463', '6425', '4558', '8984', '973'}\n",
            "Capacidad: 1000000, #Elemetos: 6, Peso: 882450, Valor:868533 : {'5527', '3366', '7229', '1446', '3334', '3621'} Capacidad: 1000000, #Elemetos: 11, Peso: 937533, Valor:949795 : {'9107', '2221', '3860', '6641', '8725', '9437', '6945', '3223', '6566', '6962', '7388'}\n",
            "Capacidad: 1000000, #Elemetos: 12, Peso: 891941, Valor:870026 : {'3868', '6470', '7173', '6460', '385', '5180', '4920', '8623', '251', '1437', '1818', '9421'} Capacidad: 1000000, #Elemetos: 8, Peso: 842952, Valor:854427 : {'761', '202', '8673', '7880', '2905', '4074', '2255', '3863'}\n",
            "Capacidad: 1000000, #Elemetos: 10, Peso: 906986, Valor:898174 : {'4723', '4511', '7897', '7156', '6281', '214', '740', '8708', '7357', '4952'} Capacidad: 1000000, #Elemetos: 8, Peso: 932097, Valor:948581 : {'7922', '8217', '6104', '7286', '8877', '5048', '505', '6670'}\n",
            "Capacidad: 1000000, #Elemetos: 8, Peso: 967287, Valor:979656 : {'5795', '8427', '314', '698', '2296', '1312', '6680', '8559'} Capacidad: 1000000, #Elemetos: 11, Peso: 830606, Valor:823067 : {'4782', '9073', '7167', '1375', '7552', '8423', '7077', '8044', '842', '4151', '571'}\n",
            "Capacidad: 1000000, #Elemetos: 10, Peso: 858378, Valor:825531 : {'6128', '7770', '1397', '5450', '7142', '2890', '4176', '4684', '3063', '6884'} Capacidad: 1000000, #Elemetos: 10, Peso: 853432, Valor:818586 : {'3249', '7537', '7261', '2141', '9179', '8480', '1396', '8095', '463', '7801'}\n",
            "Capacidad: 1000000, #Elemetos: 8, Peso: 992588, Valor:998760 : {'3700', '5081', '6572', '3527', '652', '8647', '4557', '5157'} Capacidad: 1000000, #Elemetos: 8, Peso: 924035, Valor:926204 : {'9888', '4393', '341', '5011', '844', '2453', '7772', '5132'}\n",
            "Capacidad: 1000000, #Elemetos: 12, Peso: 891941, Valor:870026 : {'3868', '6470', '7173', '6460', '385', '5180', '4920', '8623', '251', '1437', '1818', '9421'} Capacidad: 1000000, #Elemetos: 10, Peso: 858198, Valor:852594 : {'6672', '8581', '8804', '8827', '4487', '9137', '248', '923', '473', '4206'}\n",
            "Capacidad: 1000000, #Elemetos: 12, Peso: 987326, Valor:1022126 : {'7089', '5892', '8034', '7942', '4722', '3799', '4120', '8268', '5773', '4602', '4157', '331'} Capacidad: 1000000, #Elemetos: 10, Peso: 858198, Valor:852594 : {'6672', '8581', '8804', '8827', '4487', '9137', '248', '923', '473', '4206'}\n",
            "Capacidad: 1000000, #Elemetos: 8, Peso: 924035, Valor:926204 : {'9888', '4393', '341', '5011', '844', '2453', '7772', '5132'} Capacidad: 1000000, #Elemetos: 6, Peso: 918572, Valor:893115 : {'6415', '6865', '1978', '8353', '2099', '3145'}\n",
            "Capacidad: 1000000, #Elemetos: 8, Peso: 947740, Valor:942746 : {'8173', '5647', '282', '212', '1990', '2504', '1383', '1882'} Capacidad: 1000000, #Elemetos: 13, Peso: 907658, Valor:895626 : {'395', '1356', '6259', '8812', '8997', '3997', '8852', '7928', '9455', '3885', '1848', '1525', '7366'}\n",
            "Capacidad: 1000000, #Elemetos: 10, Peso: 799703, Valor:825512 : {'954', '1637', '8484', '1358', '119', '2743', '2260', '5352', '4681', '8218'} Capacidad: 1000000, #Elemetos: 9, Peso: 964722, Valor:944711 : {'9781', '9160', '5751', '4838', '2488', '9151', '4424', '2856', '1960'}\n",
            "Capacidad: 1000000, #Elemetos: 11, Peso: 937533, Valor:949795 : {'9107', '2221', '3860', '6641', '8725', '9437', '6945', '3223', '6566', '6962', '7388'} Capacidad: 1000000, #Elemetos: 6, Peso: 918572, Valor:893115 : {'6415', '6865', '1978', '8353', '2099', '3145'}\n",
            "Capacidad: 1000000, #Elemetos: 7, Peso: 893839, Valor:853306 : {'4549', '1873', '8360', '6525', '9600', '520', '8799'} Capacidad: 1000000, #Elemetos: 9, Peso: 964722, Valor:944711 : {'9781', '9160', '5751', '4838', '2488', '9151', '4424', '2856', '1960'}\n",
            "Capacidad: 1000000, #Elemetos: 10, Peso: 858378, Valor:825531 : {'6128', '7770', '1397', '5450', '7142', '2890', '4176', '4684', '3063', '6884'} Capacidad: 1000000, #Elemetos: 9, Peso: 988881, Valor:976239 : {'7030', '1362', '7776', '5981', '1461', '1242', '7626', '7115', '3588'}\n",
            "Capacidad: 1000000, #Elemetos: 8, Peso: 924035, Valor:926204 : {'9888', '4393', '341', '5011', '844', '2453', '7772', '5132'} Capacidad: 1000000, #Elemetos: 10, Peso: 962376, Valor:949461 : {'1414', '1548', '5742', '7808', '654', '745', '4098', '2910', '9061', '2407'}\n",
            "Capacidad: 1000000, #Elemetos: 12, Peso: 997567, Valor:992244 : {'9107', '9447', '2221', '3860', '6641', '3780', '8625', '4728', '5115', '2711', '3223', '8731'} Capacidad: 1000000, #Elemetos: 10, Peso: 929366, Valor:958781 : {'6494', '298', '8725', '9437', '6945', '4018', '8412', '6566', '6962', '7388'}\n",
            "Capacidad: 1000000, #Elemetos: 9, Peso: 895648, Valor:850950 : {'2596', '1595', '9160', '4838', '9881', '2488', '9151', '2856', '9559'} Capacidad: 1000000, #Elemetos: 11, Peso: 990759, Valor:990843 : {'490', '1588', '9781', '5751', '4925', '8075', '4424', '6280', '1960', '5663', '2674'}\n",
            "Capacidad: 1000000, #Elemetos: 7, Peso: 911617, Valor:887841 : {'632', '5415', '1854', '7659', '8955', '4905', '4961'} Capacidad: 1000000, #Elemetos: 11, Peso: 933957, Valor:910766 : {'8628', '6531', '8485', '1621', '6136', '3459', '3837', '5426', '1226', '2258', '3031'}\n",
            "Capacidad: 1000000, #Elemetos: 10, Peso: 961091, Valor:941151 : {'8750', '8518', '6950', '3076', '3298', '7333', '823', '9562', '346', '6339'} Capacidad: 1000000, #Elemetos: 7, Peso: 923004, Valor:902835 : {'217', '6272', '9352', '4523', '9082', '4762', '4590'}\n",
            "Capacidad: 1000000, #Elemetos: 10, Peso: 858198, Valor:852594 : {'6672', '8581', '8804', '8827', '4487', '9137', '248', '923', '473', '4206'} Capacidad: 1000000, #Elemetos: 11, Peso: 985829, Valor:957672 : {'6235', '5586', '7224', '7969', '1952', '5253', '2415', '2147', '4430', '59', '5197'}\n",
            "Capacidad: 1000000, #Elemetos: 7, Peso: 911617, Valor:887841 : {'632', '5415', '1854', '7659', '8955', '4905', '4961'} Capacidad: 1000000, #Elemetos: 8, Peso: 991736, Valor:953876 : {'6803', '772', '4044', '7605', '2815', '9760', '4325', '6643'}\n",
            "Capacidad: 1000000, #Elemetos: 8, Peso: 932097, Valor:948581 : {'7922', '8217', '6104', '7286', '8877', '5048', '505', '6670'} Capacidad: 1000000, #Elemetos: 10, Peso: 955492, Valor:966436 : {'3167', '9306', '9461', '9268', '2289', '7463', '6425', '4558', '8984', '973'}\n",
            "Capacidad: 1000000, #Elemetos: 10, Peso: 962376, Valor:949461 : {'1414', '1548', '5742', '7808', '654', '745', '4098', '2910', '9061', '2407'} Capacidad: 1000000, #Elemetos: 7, Peso: 911617, Valor:887841 : {'632', '5415', '1854', '7659', '8955', '4905', '4961'}\n",
            "Capacidad: 1000000, #Elemetos: 10, Peso: 961091, Valor:941151 : {'8750', '8518', '6950', '3076', '3298', '7333', '823', '9562', '346', '6339'} Capacidad: 1000000, #Elemetos: 10, Peso: 853432, Valor:818586 : {'3249', '7537', '7261', '2141', '9179', '8480', '1396', '8095', '463', '7801'}\n",
            "Capacidad: 1000000, #Elemetos: 8, Peso: 969751, Valor:981946 : {'3988', '5246', '2081', '7833', '3279', '5258', '8302', '8840'} Capacidad: 1000000, #Elemetos: 8, Peso: 924035, Valor:926204 : {'9888', '4393', '341', '5011', '844', '2453', '7772', '5132'}\n",
            "Capacidad: 1000000, #Elemetos: 9, Peso: 858425, Valor:856479 : {'8712', '8677', '5077', '6290', '8701', '5899', '9895', '5303', '7085'} Capacidad: 1000000, #Elemetos: 9, Peso: 858425, Valor:856479 : {'8712', '8677', '5077', '6290', '8701', '5899', '9895', '5303', '7085'}\n",
            "Capacidad: 1000000, #Elemetos: 11, Peso: 948942, Valor:924575 : {'2974', '2490', '4636', '1022', '8886', '227', '2460', '6810', '3479', '1424', '9091'} Capacidad: 1000000, #Elemetos: 9, Peso: 921683, Valor:915069 : {'8123', '6252', '2965', '3490', '8774', '7524', '8037', '8537', '1670'}\n",
            "Capacidad: 1000000, #Elemetos: 11, Peso: 970614, Valor:988184 : {'8984', '9220', '9461', '2289', '7463', '1315', '6425', '7360', '4558', '7602', '3167'} Capacidad: 1000000, #Elemetos: 8, Peso: 918612, Valor:908364 : {'9306', '9268', '6482', '5746', '4185', '7038', '973', '8947'}\n",
            "Capacidad: 1000000, #Elemetos: 10, Peso: 991901, Valor:988195 : {'3844', '5689', '8608', '2514', '4562', '5405', '5824', '7549', '9603', '9619'} Capacidad: 1000000, #Elemetos: 7, Peso: 893839, Valor:853306 : {'4549', '1873', '8360', '6525', '9600', '520', '8799'}\n",
            "Capacidad: 1000000, #Elemetos: 13, Peso: 907658, Valor:895626 : {'395', '1356', '6259', '8812', '8997', '3997', '8852', '7928', '9455', '3885', '1848', '1525', '7366'} Capacidad: 1000000, #Elemetos: 9, Peso: 868173, Valor:906307 : {'9394', '8618', '4231', '5559', '815', '5769', '498', '9778', '3928'}\n",
            "Capacidad: 1000000, #Elemetos: 10, Peso: 977303, Valor:973732 : {'9781', '5751', '4925', '7261', '2674', '6280', '1396', '5663', '463', '8075'} Capacidad: 1000000, #Elemetos: 11, Peso: 866888, Valor:835697 : {'3249', '490', '1588', '7537', '4424', '2141', '9179', '8480', '1960', '8095', '7801'}\n",
            "Capacidad: 1000000, #Elemetos: 8, Peso: 833002, Valor:830921 : {'8360', '8799', '815', '9600', '498', '520', '9778', '3928'} Capacidad: 1000000, #Elemetos: 8, Peso: 929010, Valor:928692 : {'4549', '1873', '8618', '4231', '6525', '5769', '5559', '9394'}\n",
            "Capacidad: 1000000, #Elemetos: 9, Peso: 921683, Valor:915069 : {'8123', '6252', '2965', '3490', '8774', '7524', '8037', '8537', '1670'} Capacidad: 1000000, #Elemetos: 7, Peso: 923004, Valor:902835 : {'217', '6272', '9352', '4523', '9082', '4762', '4590'}\n",
            "Capacidad: 1000000, #Elemetos: 11, Peso: 830606, Valor:823067 : {'4782', '9073', '7167', '1375', '7552', '8423', '7077', '8044', '842', '4151', '571'} Capacidad: 1000000, #Elemetos: 6, Peso: 958321, Valor:942266 : {'3984', '1799', '7172', '5229', '817', '794'}\n",
            "Capacidad: 1000000, #Elemetos: 9, Peso: 993538, Valor:964461 : {'8581', '6235', '8827', '5586', '7224', '9137', '473', '59', '5197'} Capacidad: 1000000, #Elemetos: 12, Peso: 850489, Valor:845805 : {'6672', '8804', '4487', '7969', '1952', '5253', '2415', '248', '923', '2147', '4430', '4206'}\n",
            "Capacidad: 1000000, #Elemetos: 8, Peso: 974269, Valor:979054 : {'8712', '8677', '6290', '8701', '6272', '9895', '9082', '7085'} Capacidad: 1000000, #Elemetos: 8, Peso: 807160, Valor:780260 : {'5077', '5899', '217', '9352', '4523', '5303', '4762', '4590'}\n",
            "Capacidad: 1000000, #Elemetos: 8, Peso: 885850, Valor:924730 : {'5892', '7942', '4722', '520', '815', '9600', '8799', '9778'} Capacidad: 1000000, #Elemetos: 12, Peso: 934478, Valor:928317 : {'7089', '8034', '3799', '4120', '8268', '8360', '5773', '4602', '4157', '498', '331', '3928'}\n",
            "Capacidad: 1000000, #Elemetos: 6, Peso: 918572, Valor:893115 : {'6415', '6865', '1978', '8353', '2099', '3145'} Capacidad: 1000000, #Elemetos: 10, Peso: 906986, Valor:898174 : {'4723', '4511', '7897', '7156', '6281', '214', '740', '8708', '7357', '4952'}\n",
            "Capacidad: 1000000, #Elemetos: 8, Peso: 992588, Valor:998760 : {'3700', '5081', '6572', '3527', '652', '8647', '4557', '5157'} Capacidad: 1000000, #Elemetos: 12, Peso: 891941, Valor:870026 : {'3868', '6470', '7173', '6460', '385', '5180', '4920', '8623', '251', '1437', '1818', '9421'}\n"
          ]
        }
      ],
      "source": [
        "\n",
        "# Pruebas unitarias para el operador de cruza \n",
        "for i in range(40): \n",
        "    # Vamos a hacer unas pruebas con algunas mochilas de la initialPop \n",
        "    mochila1_index = random.randint(0, len(initialPop) - 1)\n",
        "    mochila2_index = random.randint(0, len(initialPop) - 1)\n",
        "\n",
        "    mochila1 = initialPop[mochila1_index]\n",
        "    mochila2 = initialPop[mochila2_index]\n",
        "\n",
        "    # Vamos a obtener la suma de los objetos en la población \n",
        "    suma_elementos_en_poblacion = 0 \n",
        "    for mochila in initialPop:\n",
        "        suma_elementos_en_poblacion += mochila.longitud()\n",
        "    len_conjunto_ids_antes_cruza = len(conjunto_identificadores)\n",
        "\n",
        "    # Vamos a hacer una prueba con el método de cruce probabilístico\n",
        "    mochila1, mochila2 = CrossOverProbabilistic(mochila1, mochila2, 0.3)\n",
        "    print(mochila1.toString(), mochila2.toString())\n",
        "    initialPop[mochila1_index] = mochila1\n",
        "    initialPop[mochila2_index] = mochila2\n",
        "\n",
        "    # Vamos a ver que la suma de todos los objetos de las mochilas de la población más la suma de la longitud del conjunto de identificadores sea igual a 10000 \n",
        "    suma_despues_cruza = 0\n",
        "    for mochila in initialPop:\n",
        "        suma_despues_cruza += mochila.longitud()\n",
        "\n",
        "    len_conjunto_ids_desp_cruza = len(conjunto_identificadores)\n",
        "\n",
        "    if(not (suma_despues_cruza + len_conjunto_ids_desp_cruza == 10000 and suma_elementos_en_poblacion + len_conjunto_ids_antes_cruza == 10000)):\n",
        "        print(\"Algo salió mal\")\n",
        "        print(f\"Antes de la mutación: {suma_elementos_en_poblacion}, {len_conjunto_ids_antes_cruza}\")\n",
        "        print(f\"Después de la mutación: {suma_despues_cruza}, {len_conjunto_ids_desp_cruza}\")\n"
      ]
    },
    {
      "cell_type": "code",
      "execution_count": 6,
      "metadata": {},
      "outputs": [
        {
          "name": "stdout",
          "output_type": "stream",
          "text": [
            "Capacidad: 1000000, #Elemetos: 8, Peso: 866890, Valor:839091 : {'5956', '5899', '217', '9352', '4523', '5303', '4762', '4590'}\n",
            "Capacidad: 1000000, #Elemetos: 11, Peso: 902368, Valor:889877 : {'3249', '490', '1588', '2365', '7537', '4424', '9179', '8480', '1960', '8095', '7801'}\n",
            "Capacidad: 1000000, #Elemetos: 10, Peso: 919126, Valor:896754 : {'8750', '8518', '7326', '6950', '3076', '3298', '7333', '823', '9562', '6339'}\n",
            "Capacidad: 1000000, #Elemetos: 9, Peso: 878580, Valor:850934 : {'8123', '6252', '2965', '8774', '7524', '8037', '6700', '8537', '1670'}\n",
            "Capacidad: 1000000, #Elemetos: 11, Peso: 967654, Valor:941391 : {'2974', '2490', '4636', '1022', '8886', '2460', '6810', '3479', '1424', '8933', '9091'}\n",
            "Capacidad: 1000000, #Elemetos: 10, Peso: 849442, Valor:818267 : {'8837', '8816', '7424', '3757', '3553', '1057', '9405', '699', '9829', '3933'}\n",
            "Capacidad: 1000000, #Elemetos: 6, Peso: 916629, Valor:889713 : {'6415', '6865', '1978', '8353', '4906', '3145'}\n",
            "Capacidad: 1000000, #Elemetos: 8, Peso: 972110, Valor:996363 : {'5795', '8427', '698', '2296', '333', '1312', '6680', '8559'}\n",
            "Capacidad: 1000000, #Elemetos: 6, Peso: 896931, Valor:871667 : {'5527', '3366', '1446', '8704', '3334', '3621'}\n",
            "Capacidad: 1000000, #Elemetos: 8, Peso: 929554, Valor:967971 : {'3786', '1741', '3680', '4565', '4234', '8283', '7283', '4599'}\n",
            "Capacidad: 1000000, #Elemetos: 10, Peso: 999685, Valor:994658 : {'3844', '5498', '5689', '8608', '2514', '4562', '5405', '5824', '9603', '9619'}\n",
            "Capacidad: 1000000, #Elemetos: 10, Peso: 875668, Valor:838873 : {'8837', '1712', '7424', '3757', '3553', '1057', '9405', '699', '9829', '3933'}\n",
            "Capacidad: 1000000, #Elemetos: 12, Peso: 951665, Valor:924901 : {'8034', '3799', '4120', '8268', '3636', '8360', '5773', '4602', '4157', '498', '331', '3928'}\n",
            "Capacidad: 1000000, #Elemetos: 11, Peso: 888677, Valor:875818 : {'4782', '7167', '1375', '7552', '8423', '7077', '5901', '8044', '842', '4151', '571'}\n",
            "Capacidad: 1000000, #Elemetos: 11, Peso: 974439, Valor:971009 : {'4782', '2714', '7167', '1375', '7552', '8423', '7077', '8044', '842', '4151', '571'}\n",
            "Capacidad: 1000000, #Elemetos: 10, Peso: 931968, Valor:916032 : {'8750', '8518', '7326', '6344', '3076', '3298', '7333', '823', '9562', '6339'}\n",
            "Capacidad: 1000000, #Elemetos: 9, Peso: 987004, Valor:963019 : {'2596', '1595', '774', '9160', '4838', '9881', '2488', '9151', '2856'}\n",
            "Capacidad: 1000000, #Elemetos: 10, Peso: 984112, Valor:977867 : {'1497', '3844', '5498', '5689', '8608', '4562', '5405', '5824', '9603', '9619'}\n",
            "Capacidad: 1000000, #Elemetos: 6, Peso: 778174, Valor:768326 : {'5527', '3366', '1446', '3334', '3621', '9207'}\n",
            "Capacidad: 1000000, #Elemetos: 8, Peso: 847465, Valor:864267 : {'8217', '6104', '7286', '4888', '8877', '5048', '505', '6670'}\n",
            "Capacidad: 1000000, #Elemetos: 8, Peso: 732319, Valor:738377 : {'4549', '8618', '4231', '7577', '6525', '5769', '5559', '9394'}\n",
            "Capacidad: 1000000, #Elemetos: 11, Peso: 998115, Valor:975856 : {'490', '1588', '2365', '7537', '4424', '9179', '8480', '1960', '8095', '7801', '3820'}\n",
            "Capacidad: 1000000, #Elemetos: 10, Peso: 944322, Valor:922452 : {'8837', '7424', '3996', '3757', '3553', '1057', '9405', '699', '9829', '3933'}\n",
            "Capacidad: 1000000, #Elemetos: 9, Peso: 831709, Valor:814358 : {'8123', '6252', '2965', '8774', '7524', '2246', '8037', '8537', '1670'}\n",
            "Capacidad: 1000000, #Elemetos: 9, Peso: 889539, Valor:895583 : {'276', '1677', '6087', '8685', '4489', '1996', '4032', '3237', '468'}\n",
            "Capacidad: 1000000, #Elemetos: 8, Peso: 914830, Valor:885696 : {'5956', '1371', '217', '9352', '4523', '5303', '4762', '4590'}\n",
            "Capacidad: 1000000, #Elemetos: 10, Peso: 801755, Valor:816887 : {'6494', '3783', '8725', '9437', '6945', '4018', '8412', '6566', '6962', '7388'}\n",
            "Capacidad: 1000000, #Elemetos: 8, Peso: 963006, Valor:927674 : {'6803', '772', '4044', '2815', '9760', '4325', '6643', '6970'}\n",
            "Capacidad: 1000000, #Elemetos: 14, Peso: 987653, Valor:956300 : {'4537', '1427', '7980', '5707', '5895', '2573', '1570', '4522', '6729', '6418', '980', '1319', '8380', '1336'}\n",
            "Capacidad: 1000000, #Elemetos: 10, Peso: 813135, Valor:835064 : {'954', '1637', '8639', '1358', '119', '2743', '2260', '5352', '4681', '8218'}\n",
            "Capacidad: 1000000, #Elemetos: 12, Peso: 967179, Valor:931506 : {'3868', '7173', '6460', '385', '5180', '5743', '4920', '8623', '251', '1437', '1818', '9421'}\n",
            "Capacidad: 1000000, #Elemetos: 8, Peso: 863964, Valor:860122 : {'761', '202', '8673', '7880', '2248', '4074', '2255', '3863'}\n",
            "Capacidad: 1000000, #Elemetos: 11, Peso: 820265, Valor:820230 : {'7866', '3725', '3617', '9402', '5529', '9136', '3809', '6749', '9654', '801', '3205'}\n",
            "Capacidad: 1000000, #Elemetos: 8, Peso: 864855, Valor:873191 : {'8677', '6290', '8701', '6272', '9157', '9895', '9082', '7085'}\n",
            "Capacidad: 1000000, #Elemetos: 10, Peso: 984112, Valor:977867 : {'1497', '3844', '5498', '5689', '8608', '4562', '5405', '5824', '9603', '9619'}\n",
            "Capacidad: 1000000, #Elemetos: 9, Peso: 905071, Valor:887238 : {'7030', '1362', '7776', '5981', '1461', '5705', '7626', '7115', '3588'}\n",
            "Capacidad: 1000000, #Elemetos: 8, Peso: 766859, Valor:750741 : {'9306', '9268', '9231', '6482', '5746', '7038', '973', '8947'}\n",
            "Capacidad: 1000000, #Elemetos: 14, Peso: 944157, Valor:914346 : {'4537', '1427', '7980', '5895', '2573', '1570', '4522', '7292', '6729', '6418', '980', '1319', '8380', '1336'}\n",
            "Capacidad: 1000000, #Elemetos: 12, Peso: 983440, Valor:990686 : {'9107', '9447', '2221', '3860', '6641', '3780', '315', '8625', '4728', '5115', '3223', '8731'}\n",
            "Capacidad: 1000000, #Elemetos: 11, Peso: 965060, Valor:961149 : {'2714', '7167', '1257', '1375', '7552', '8423', '7077', '8044', '842', '4151', '571'}\n"
          ]
        }
      ],
      "source": [
        "# Pruebas unitarias para el operador de mutación \n",
        "for i in range(40):    \n",
        "\n",
        "    mochila1_index = random.randint(0, len(initialPop) - 1)\n",
        "    mochila1 = initialPop[mochila1_index]\n",
        "\n",
        "    # Vamos a obtener la suma de los objetos en la población \n",
        "    suma_elementos_en_poblacion = 0 \n",
        "    for mochila in initialPop:\n",
        "        suma_elementos_en_poblacion += mochila.longitud()\n",
        "    len_conjunto_ids_antes_cruza = len(conjunto_identificadores)\n",
        "\n",
        "    # Vamos a hacer una prueba con el método de mutación de elemento\n",
        "    mochila1 = MutateElement(mochila1, 1)\n",
        "    print(mochila1.toString())\n",
        "\n",
        "    initialPop[mochila1_index] = mochila1\n",
        "\n",
        "    # Vamos a ver que la suma de todos los objetos de las mochilas de la población más la suma de la longitud del conjunto de identificadores sea igual a 10000 \n",
        "    suma_despues_mutacion = 0\n",
        "    for mochila in initialPop:\n",
        "        suma_despues_mutacion += mochila.longitud()\n",
        "\n",
        "    len_conjunto_ids_desp_cruza = len(conjunto_identificadores)\n",
        "\n",
        "    if(not (suma_despues_mutacion + len_conjunto_ids_desp_cruza == 10000 and suma_elementos_en_poblacion + len_conjunto_ids_antes_cruza == 10000)):\n",
        "        print(\"Algo salió mal\")\n",
        "        print(f\"Antes de la mutación: {suma_elementos_en_poblacion}, {len_conjunto_ids_antes_cruza}\")\n",
        "        print(f\"Después de la mutación: {suma_despues_mutacion}, {len_conjunto_ids_desp_cruza}\")\n",
        "\n",
        "\n"
      ]
    }
  ],
  "metadata": {
    "accelerator": "GPU",
    "colab": {
      "private_outputs": true,
      "provenance": []
    },
    "gpuClass": "standard",
    "kernelspec": {
      "display_name": "Python 3",
      "name": "python3"
    },
    "language_info": {
      "codemirror_mode": {
        "name": "ipython",
        "version": 3
      },
      "file_extension": ".py",
      "mimetype": "text/x-python",
      "name": "python",
      "nbconvert_exporter": "python",
      "pygments_lexer": "ipython3",
      "version": "3.10.9"
    }
  },
  "nbformat": 4,
  "nbformat_minor": 0
}
